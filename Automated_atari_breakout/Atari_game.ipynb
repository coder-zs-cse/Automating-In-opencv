{
 "cells": [
  {
   "cell_type": "code",
   "execution_count": 21,
   "metadata": {},
   "outputs": [],
   "source": [
    "import cv2\n",
    "import matplotlib.pyplot as plt\n",
    "import numpy as np\n",
    "from PIL import ImageGrab as IG"
   ]
  },
  {
   "cell_type": "code",
   "execution_count": 22,
   "metadata": {},
   "outputs": [],
   "source": [
    "def grab_screen(bbox=None):\n",
    "    screenshot = IG.grab(bbox)\n",
    "    screenshot = np.array(screenshot)\n",
    "    screenshot = cv2.cvtColor(screenshot,cv2.COLOR_RGB2BGR)\n",
    "    return screenshot"
   ]
  },
  {
   "cell_type": "code",
   "execution_count": 23,
   "metadata": {},
   "outputs": [],
   "source": [
    "class Atari : \n",
    "    def __init__(self, path):\n",
    "        image = cv2.imread(path)\n",
    "        self.image = image\n",
    "        self.height = image.shape[0]\n",
    "        self.width = image.shape[1]\n",
    "        \n",
    "        self.location = None\n",
    "    def match(self, screen_img):\n",
    "        result = cv2.matchTemplate(screen_img, self.image, cv2.TM_CCOEFF_NORMED)\n",
    "        min_value, max_value, min_loc, max_loc = cv2.minMaxLoc(result)\n",
    "        top_left = max_loc\n",
    "        bottom_right = (max_loc[0]+self.width, max_loc[1]+self.height)\n",
    "        if max_value > 0.85 :\n",
    "            self.location = (top_left, bottom_right)\n",
    "            return True\n",
    "        else :\n",
    "            self.location = None\n",
    "            return False\n"
   ]
  },
  {
   "cell_type": "code",
   "execution_count": 24,
   "metadata": {},
   "outputs": [],
   "source": [
    "Start = Atari('play.png')\n",
    "Bars = [Atari('bar.png'), Atari('sidebar.png')]\n",
    "Ball = Atari('ball2.png')"
   ]
  },
  {
   "cell_type": "code",
   "execution_count": 25,
   "metadata": {},
   "outputs": [],
   "source": [
    "import time\n",
    "import pyautogui as pag"
   ]
  },
  {
   "cell_type": "code",
   "execution_count": 26,
   "metadata": {},
   "outputs": [],
   "source": [
    "while True:\n",
    "    screen= grab_screen()\n",
    "\n",
    "    if  Start.match(screen):\n",
    "        if Start.location!=None:\n",
    "            top_left_x= int(Start.location[0][0] - 350)\n",
    "            top_left_y= int( Start.location[1][1] + 16)\n",
    "            bottom_right_x = int(Start.location[1][0] + 456)\n",
    "            bottom_right_y = int( Start.location[1][1] + 593)\n",
    "            Top_left=(top_left_x,top_left_y)\n",
    "            Bottom_right = (bottom_right_x,bottom_right_y)\n",
    "            break;  \n",
    "\n",
    "    "
   ]
  },
  {
   "cell_type": "code",
   "execution_count": 27,
   "metadata": {},
   "outputs": [],
   "source": [
    "Center_x = int((Start.location[0][0] + Start.location[1][0])/2) \n",
    "Center_y = int((Start.location[0][1] + Start.location[1][1])/2)\n",
    "Center=(Center_x,Center_y)"
   ]
  },
  {
   "cell_type": "code",
   "execution_count": 28,
   "metadata": {},
   "outputs": [],
   "source": [
    "import pyautogui\n",
    "pag.leftClick(Center)"
   ]
  },
  {
   "cell_type": "code",
   "execution_count": 29,
   "metadata": {},
   "outputs": [],
   "source": [
    "while True:\n",
    "    main_panal = grab_screen(bbox=(Top_left[0], Top_left[1], Bottom_right[0], Bottom_right[1]))\n",
    "    for Bar in Bars:\n",
    "        if Bar.match(main_panal):\n",
    "            if Bar.location:\n",
    "                cv2.rectangle(main_panal, Bar.location[0], Bar.location[1], (255,0,0), 2)\n",
    "        \n",
    "        if Ball.match(main_panal):\n",
    "            cv2.rectangle(main_panal, Ball.location[0], Ball.location[1],(255,0,0), 2)    \n",
    "            if Bar.location:\n",
    "                bar_center_x= (Bar.location[0][0]+Bar.location[1][0])/2\n",
    "                cursor_x = Ball.location[0][0]- bar_center_x\n",
    "                cursor_x=min(cursor_x,bottom_right_x-(Bar.width)/2) \n",
    "\n",
    "                # if Bar.location[0][1] - Ball.location[1][1] <= 500:\n",
    "                pag.move(cursor_x,0, 0.5)\n",
    "        cv2.imshow(\"Screen\", main_panal)\n",
    "    if cv2.waitKey(1) == ord('q') :\n",
    "        cv2.destroyAllWindows()\n",
    "        break\n"
   ]
  }
 ],
 "metadata": {
  "interpreter": {
   "hash": "9dcb8ceb8fa576f3c113734e41b2cb66ce2f2120dcbf7ce52853a570d32a4367"
  },
  "kernelspec": {
   "display_name": "Python 3.10.0 64-bit",
   "language": "python",
   "name": "python3"
  },
  "language_info": {
   "codemirror_mode": {
    "name": "ipython",
    "version": 3
   },
   "file_extension": ".py",
   "mimetype": "text/x-python",
   "name": "python",
   "nbconvert_exporter": "python",
   "pygments_lexer": "ipython3",
   "version": "3.10.0"
  },
  "orig_nbformat": 4
 },
 "nbformat": 4,
 "nbformat_minor": 2
}
