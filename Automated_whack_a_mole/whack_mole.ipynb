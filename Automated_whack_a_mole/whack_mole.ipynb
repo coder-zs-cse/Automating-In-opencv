{
 "cells": [
  {
   "cell_type": "code",
   "execution_count": 92,
   "metadata": {},
   "outputs": [],
   "source": [
    "import cv2\n",
    "import numpy as np\n",
    "import matplotlib.pyplot as plt"
   ]
  },
  {
   "cell_type": "code",
   "execution_count": 93,
   "metadata": {},
   "outputs": [],
   "source": [
    "from PIL import ImageGrab as IG"
   ]
  },
  {
   "cell_type": "code",
   "execution_count": 94,
   "metadata": {},
   "outputs": [],
   "source": [
    "def grab_screen(bbox=None):\n",
    "    screenshot = IG.grab(bbox)\n",
    "    screenshot = np.array(screenshot)\n",
    "    screenshot = cv2.cvtColor(screenshot,cv2.COLOR_RGB2BGR)\n",
    "    return screenshot"
   ]
  },
  {
   "cell_type": "markdown",
   "metadata": {},
   "source": []
  },
  {
   "cell_type": "code",
   "execution_count": 95,
   "metadata": {},
   "outputs": [],
   "source": [
    "class whack : \n",
    "    def __init__(self, path):\n",
    "        image = cv2.imread(path)\n",
    "        self.image = image\n",
    "        self.height = image.shape[0]\n",
    "        self.width = image.shape[1]\n",
    "        \n",
    "        self.location = None\n",
    "    def match(self, screen_img):\n",
    "        result = cv2.matchTemplate(screen_img, self.image, cv2.TM_CCOEFF_NORMED)\n",
    "        min_value, max_value, min_loc, max_loc = cv2.minMaxLoc(result)\n",
    "        top_left = max_loc\n",
    "        bottom_right = (max_loc[0]+self.width, max_loc[1]+self.height)\n",
    "        if max_value > 0.85 :\n",
    "            self.location = (top_left, bottom_right)\n",
    "            return True\n",
    "        else :\n",
    "            self.location = None\n",
    "            return False\n"
   ]
  },
  {
   "cell_type": "code",
   "execution_count": 96,
   "metadata": {},
   "outputs": [],
   "source": [
    "Start = whack('click.png')\n",
    "moles= [whack('mole5.png'),whack('mole6.png'),whack('mole7.png'),whack('mole8.png'),whack('mole9 .png')]"
   ]
  },
  {
   "cell_type": "code",
   "execution_count": 97,
   "metadata": {},
   "outputs": [],
   "source": [
    "import time\n",
    "import pyautogui as pag"
   ]
  },
  {
   "cell_type": "code",
   "execution_count": 98,
   "metadata": {},
   "outputs": [],
   "source": [
    "while True:\n",
    "    screen= grab_screen()\n",
    "\n",
    "    if  Start.match(screen):\n",
    "        if Start.location!=None:\n",
    "            top_left_x= int(Start.location[0][0] - 44)\n",
    "            top_left_y= int( Start.location[1][1] -200)\n",
    "            bottom_right_x = int(Start.location[1][0] + 42)\n",
    "            bottom_right_y = int( Start.location[1][1] + 183)\n",
    "            Top_left=(top_left_x,top_left_y)\n",
    "            Bottom_right = (bottom_right_x,bottom_right_y)\n",
    "            break;  \n",
    "\n",
    "    "
   ]
  },
  {
   "cell_type": "code",
   "execution_count": 99,
   "metadata": {},
   "outputs": [],
   "source": [
    "import pyautogui\n",
    "pag.leftClick(Start.location[0][0],Start.location[0][1])"
   ]
  },
  {
   "cell_type": "code",
   "execution_count": 100,
   "metadata": {},
   "outputs": [
    {
     "name": "stdout",
     "output_type": "stream",
     "text": [
      "353 159\n",
      "354 146\n"
     ]
    }
   ],
   "source": [
    "while True:\n",
    "    main_panal = grab_screen(bbox=(Top_left[0], Top_left[1], Bottom_right[0], Bottom_right[1]))\n",
    "    for mole in moles:\n",
    "        if mole.match(main_panal):\n",
    "            if mole.location :\n",
    "                cv2.rectangle(main_panal, mole.location[0], mole.location[1],(0,0,255), 2) \n",
    "                center_x = mole.location[0][0]+30\n",
    "                center_y = mole.location[0][1]+30\n",
    "                print(center_x, center_y)\n",
    "                pag.click(x=center_x,y=center_y)\n",
    "    cv2.imshow(\"Screen\", main_panal)\n",
    "    if cv2.waitKey(1) == ord('q') :\n",
    "        cv2.destroyAllWindows()\n",
    "        break"
   ]
  }
 ],
 "metadata": {
  "kernelspec": {
   "display_name": "Python 3.10.0 64-bit",
   "language": "python",
   "name": "python3"
  },
  "language_info": {
   "codemirror_mode": {
    "name": "ipython",
    "version": 3
   },
   "file_extension": ".py",
   "mimetype": "text/x-python",
   "name": "python",
   "nbconvert_exporter": "python",
   "pygments_lexer": "ipython3",
   "version": "3.10.0"
  },
  "orig_nbformat": 4,
  "vscode": {
   "interpreter": {
    "hash": "2c12644aa2b62fa308c25a183b78ba9f0da2436cd0732697c8cf758cfb0ffebe"
   }
  }
 },
 "nbformat": 4,
 "nbformat_minor": 2
}
