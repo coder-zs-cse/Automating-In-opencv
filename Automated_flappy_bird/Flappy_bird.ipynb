{
 "cells": [
  {
   "cell_type": "code",
   "execution_count": 19,
   "metadata": {},
   "outputs": [],
   "source": [
    "import cv2\n",
    "import numpy as np\n",
    "import matplotlib.pyplot as plt\n",
    "from PIL import ImageGrab as IG"
   ]
  },
  {
   "cell_type": "code",
   "execution_count": 20,
   "metadata": {},
   "outputs": [],
   "source": [
    "def grab_screen(bbox=None):\n",
    "    screenshort = IG.grab(bbox)\n",
    "    screenshort = np.array(screenshort)\n",
    "    # since we have to use this image in the opencv that's why we have to convert the RGB image into BGR image!\n",
    "    screenshort = cv2.cvtColor(screenshort, cv2.COLOR_RGB2BGR)\n",
    "    return screenshort"
   ]
  },
  {
   "cell_type": "code",
   "execution_count": 21,
   "metadata": {},
   "outputs": [],
   "source": [
    "class FlappyBird_Game :\n",
    "    \n",
    "    # Constructer Function, called every time when an object is created!\n",
    "    def __init__(self, path):\n",
    "        \n",
    "        # These all are the properties of each object!\n",
    "        image = cv2.imread(path)\n",
    "        self.image = image\n",
    "        self.height = image.shape[0]\n",
    "        self.width = image.shape[1]\n",
    "        self.location = None\n",
    "        \n",
    "    # This function do the template matching of the object image in the screenshort of your screen!\n",
    "    def match(self, screen_img):\n",
    "        \n",
    "        # Here we use cv2.TM_CCOEFF_NORMED method, but you have to perform many trials before choosing the perfect method.\n",
    "        result = cv2.matchTemplate(screen_img, self.image, cv2.TM_CCOEFF_NORMED)\n",
    "        min_value, max_value, min_loc, max_loc = cv2.minMaxLoc(result)\n",
    "        \n",
    "        # Coordinate of the Top Left match template in the screen!\n",
    "        top_left = max_loc\n",
    "        \n",
    "        # Coordinate of the Bottom Right match template in the screen!\n",
    "        bottom_right = (max_loc[0]+self.width, max_loc[1]+self.height)\n",
    "        \n",
    "        # Threshold is the probability of how much the image is similar with other image!\n",
    "        # Compare it's probability with the desirable threshold!\n",
    "        if max_value > 0.85 :\n",
    "            self.location = (top_left, bottom_right)\n",
    "            return True\n",
    "        else :\n",
    "            self.location = None\n",
    "            return False"
   ]
  },
  {
   "cell_type": "code",
   "execution_count": 22,
   "metadata": {},
   "outputs": [],
   "source": [
    "# Birds = \n",
    "Birds = [FlappyBird_Game('bird.png'), FlappyBird_Game('bird1.png'),FlappyBird_Game('bird1(1).png'), FlappyBird_Game('bird2.png'),FlappyBird_Game('bird3.png')]\n",
    "# Make a list of enemies\n",
    "Pipe = FlappyBird_Game('bottom_pipe.png')"
   ]
  },
  {
   "cell_type": "code",
   "execution_count": 23,
   "metadata": {},
   "outputs": [],
   "source": [
    "import time \n",
    "import pyautogui as pag"
   ]
  },
  {
   "cell_type": "code",
   "execution_count": 24,
   "metadata": {},
   "outputs": [
    {
     "name": "stdout",
     "output_type": "stream",
     "text": [
      "Seconds since epoch = 1641659832.9382913\n"
     ]
    }
   ],
   "source": [
    "seconds = time.time()\n",
    "print(\"Seconds since epoch =\", seconds)"
   ]
  },
  {
   "cell_type": "code",
   "execution_count": 25,
   "metadata": {},
   "outputs": [],
   "source": [
    "while True :\n",
    "\n",
    "    # Take the screenshot of the screen\n",
    "    screen = grab_screen()\n",
    "\n",
    "\n",
    "    # Match the dino template(detect)\n",
    "    if Birds[0].match(screen):\n",
    "        if Birds[0].location != None :\n",
    "       \n",
    "            topleft_x = int(Birds[0].location[0][0] - 3*Birds[0].width)\n",
    "            topleft_y = int(Birds[0].location[0][1] - 7.2*Birds[0].height)\n",
    "            bottomRight_x = int(Birds[0].location[1][0] + 10*Birds[0].width)\n",
    "            bottomRight_y = int(Birds[0].location[1][1] + 5*Birds[0].height)\n",
    "            TopLeft = (topleft_x, topleft_y)\n",
    "            BottomRight = (bottomRight_x, bottomRight_y)\n",
    "            break\n",
    "\n"
   ]
  },
  {
   "cell_type": "code",
   "execution_count": 26,
   "metadata": {},
   "outputs": [],
   "source": [
    "y_threshold = 90\n",
    "startTime = time.time()\n",
    "prevTime = time.time() \n",
    "\n",
    "pag.press('space')"
   ]
  },
  {
   "cell_type": "code",
   "execution_count": 27,
   "metadata": {},
   "outputs": [],
   "source": [
    "\n",
    "while True:\n",
    "    main_panal = grab_screen(bbox=(TopLeft[0], TopLeft[1], BottomRight[0], BottomRight[1]))\n",
    "    Bird=None\n",
    "    for Bd in Birds:\n",
    "        if Bd.match(main_panal):\n",
    "            if Bd.location:\n",
    "                Bird=Bd\n",
    "                cv2.rectangle(main_panal, Bd.location[0], Bd.location[1], (255,0,0), 2)\n",
    "                break\n",
    "    if(Pipe.match(main_panal)) :\n",
    "        cv2.rectangle(main_panal, Pipe.location[0], Pipe.location[1], (0,0,255), 2)  \n",
    "        if Bird.location[0][1] > Pipe.location[0][1]:\n",
    "            if Pipe.location[1][1]- Bird.location[1][1] < y_threshold  :\n",
    "                pag.press('space')\n",
    "    else :\n",
    "        if(time.time()-startTime>0.95):      \n",
    "            startTime=prevTime\n",
    "            prevTime=time.time()\n",
    "            pag.press('space')\n",
    "    cv2.imshow(\"Screen\", main_panal)\n",
    "    if cv2.waitKey(1) == ord('q') :\n",
    "        cv2.destroyAllWindows()\n",
    "        break\n",
    "\n",
    "        \n",
    "\n",
    "                \n",
    "                \n",
    "\n",
    "    \n",
    "        \n"
   ]
  },
  {
   "cell_type": "code",
   "execution_count": null,
   "metadata": {},
   "outputs": [],
   "source": [
    "# speed = 4\n",
    "# ac celeration = 0.36\n",
    "# distanceThreshold = 156\n",
    "\n",
    "# while True :   \n",
    "\n",
    "#     # we will select a small area from the screen, we will use that area to detect the enemies\n",
    "#     main_panal = grab_screen(bbox=(TopLeft[0], TopLeft[1], BottomRight[0], BottomRight[1]))\n",
    "\n",
    "#     # as the time p rogreses the speed of the game also increases, so we have to increase the distanceThreshold\n",
    "#     if time.time() - startTime > 12 and Dino.location:\n",
    "#         speed += speed*acceleration\n",
    "#         distanceThreshold += speed\n",
    "#         startTime = prevTime\n",
    "#         prevTime = time.time()\n",
    "\n",
    "#     if Dino.match(main_panal):\n",
    "#         if Dino.location:\n",
    "#             cv2.rectangle(main_panal, Dino.location[0], Dino.location[1], (255,0,0), 2)\n",
    "\n",
    "#     # Detect enemies from the given list\n",
    "#     for enemy in Enemies :\n",
    "#         if enemy.match(main_panal):\n",
    "#             cv2.rectangle(main_panal, enemy.location[0], enemy.location[1], (0,0,255), 2)\n",
    "#             if Dino.location:\n",
    "#                 horizontalDistance = enemy.location[0][0] - Dino.location[1][0]\n",
    "#                 verticalDistance = Dino.location[0][1] - enemy.location[1][1]\n",
    "\n",
    "#                 if horizontalDistance <= distanceThreshold and horizontalDistance >= 0: \n",
    "                    \n",
    "#                     # if the enemie is above the dino head then we don't have to jump\n",
    "#                     if verticalDistance <= 0 :\n",
    "#                         pag.press('space')\n",
    "#                         break\n",
    "                        \n",
    "#     # show the selected area\n",
    "#     cv2.imshow(\"Screen\", main_panal)\n",
    "\n",
    "#     # If we press key q, then the program will stop\n",
    "#     if cv2.waitKey(1) == ord('q') :\n",
    "#         cv2.destroyAllWindows()\n",
    "#         break"
   ]
  }
 ],
 "metadata": {
  "interpreter": {
   "hash": "9dcb8ceb8fa576f3c113734e41b2cb66ce2f2120dcbf7ce52853a570d32a4367"
  },
  "kernelspec": {
   "display_name": "Python 3.10.0 64-bit",
   "language": "python",
   "name": "python3"
  },
  "language_info": {
   "codemirror_mode": {
    "name": "ipython",
    "version": 3
   },
   "file_extension": ".py",
   "mimetype": "text/x-python",
   "name": "python",
   "nbconvert_exporter": "python",
   "pygments_lexer": "ipython3",
   "version": "3.10.0"
  },
  "orig_nbformat": 4
 },
 "nbformat": 4,
 "nbformat_minor": 2
}
